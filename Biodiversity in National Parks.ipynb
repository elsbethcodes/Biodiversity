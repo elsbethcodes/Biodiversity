{
  "metadata": {
    "kernelspec": {
      "name": "python",
      "display_name": "Python (Pyodide)",
      "language": "python"
    },
    "language_info": {
      "codemirror_mode": {
        "name": "python",
        "version": 3
      },
      "file_extension": ".py",
      "mimetype": "text/x-python",
      "name": "python",
      "nbconvert_exporter": "python",
      "pygments_lexer": "ipython3",
      "version": "3.8"
    }
  },
  "nbformat_minor": 5,
  "nbformat": 4,
  "cells": [
    {
      "id": "8b2f32e3-3c37-4e35-b1b8-bd69f0447b04",
      "cell_type": "markdown",
      "source": "# Portfolio Project on Biodiversity in National Parks\nspecies_info.csv - contains data about different species and their conservation status. <br>\nobservations.csv - holds recorded sightings of different species at several national parks for the past 7 days.",
      "metadata": {}
    },
    {
      "id": "f5324a01-7488-44b3-9b95-5099277753f7",
      "cell_type": "code",
      "source": "import pandas as pd\nspecies = pd.read_csv('species_info.csv')\nprint(species.head(5))",
      "metadata": {
        "trusted": true
      },
      "outputs": [
        {
          "name": "stdout",
          "output_type": "stream",
          "text": "  category                scientific_name  \\\n0   Mammal  Clethrionomys gapperi gapperi   \n1   Mammal                      Bos bison   \n2   Mammal                     Bos taurus   \n3   Mammal                     Ovis aries   \n4   Mammal                 Cervus elaphus   \n\n                                        common_names conservation_status  \n0                           Gapper's Red-Backed Vole                 NaN  \n1                              American Bison, Bison                 NaN  \n2  Aurochs, Aurochs, Domestic Cattle (Feral), Dom...                 NaN  \n3  Domestic Sheep, Mouflon, Red Sheep, Sheep (Feral)                 NaN  \n4                                      Wapiti Or Elk                 NaN  \n"
        }
      ],
      "execution_count": 68
    },
    {
      "id": "220107d3-9cfc-4f44-8d20-27af2e68d355",
      "cell_type": "code",
      "source": "observations = pd.read_csv('observations.csv')\nprint(observations.head(5))",
      "metadata": {
        "trusted": true
      },
      "outputs": [
        {
          "name": "stdout",
          "output_type": "stream",
          "text": "            scientific_name                            park_name  observations\n0        Vicia benghalensis  Great Smoky Mountains National Park            68\n1            Neovison vison  Great Smoky Mountains National Park            77\n2         Prunus subcordata               Yosemite National Park           138\n3      Abutilon theophrasti                  Bryce National Park            84\n4  Githopsis specularioides  Great Smoky Mountains National Park            85\n"
        }
      ],
      "execution_count": 69
    },
    {
      "id": "5c425668-168a-4398-ad22-751c71dbfe83",
      "cell_type": "markdown",
      "source": "From observing the first 5 rows of each dataframe, we see that the dataframe _species_ has columns _category, scientific_name, common_names_ and _conservation_status_. The dataframe _observations_ has columns _scientific_name, park_name_ and _observations_. <br>\nIt makes sense to merge these tables on the common variable _scientific_name_ so that insights can be more easily visualised across the two tables. We will outer merge so that all data from both datasets is included.",
      "metadata": {}
    },
    {
      "id": "619004b9-d825-49c1-86e3-fb0dbe497016",
      "cell_type": "code",
      "source": "df = pd.merge(left=species, right=observations, how='outer')\nprint(df.head(5))",
      "metadata": {
        "trusted": true
      },
      "outputs": [
        {
          "name": "stdout",
          "output_type": "stream",
          "text": "         category scientific_name  \\\n0  Vascular Plant   Abies bifolia   \n1  Vascular Plant   Abies bifolia   \n2  Vascular Plant   Abies bifolia   \n3  Vascular Plant   Abies bifolia   \n4  Vascular Plant  Abies concolor   \n\n                                        common_names conservation_status  \\\n0                          Rocky Mountain Alpine Fir                 NaN   \n1                          Rocky Mountain Alpine Fir                 NaN   \n2                          Rocky Mountain Alpine Fir                 NaN   \n3                          Rocky Mountain Alpine Fir                 NaN   \n4  Balsam Fir, Colorado Fir, Concolor Fir, Silver...                 NaN   \n\n                             park_name  observations  \n0                  Bryce National Park           109  \n1            Yellowstone National Park           215  \n2  Great Smoky Mountains National Park            72  \n3               Yosemite National Park           136  \n4  Great Smoky Mountains National Park           101  \n"
        }
      ],
      "execution_count": 70
    },
    {
      "id": "0f7b2067-d3fc-4973-9ade-67c82de6b436",
      "cell_type": "markdown",
      "source": "The dataframes have been merged into a new dataframe called _df_. <br>\nIt is ordered lexiographically (according to the English alphabet) which will be useful if we need to fill missing data. <br>\nNext we will explore the combined dataset using summary statistics.",
      "metadata": {}
    },
    {
      "id": "7c3c98ec-29d1-4b26-ad35-8c78c790a92a",
      "cell_type": "code",
      "source": "df.nunique()",
      "metadata": {
        "trusted": true
      },
      "outputs": [
        {
          "execution_count": 71,
          "output_type": "execute_result",
          "data": {
            "text/plain": "category                  7\nscientific_name        5541\ncommon_names           5504\nconservation_status       4\npark_name                 4\nobservations            304\ndtype: int64"
          },
          "metadata": {}
        }
      ],
      "execution_count": 71
    },
    {
      "id": "b65705a7-f7b2-455e-adba-e9ed15ee3917",
      "cell_type": "markdown",
      "source": "A count of unique values reveals that our dataframe describes observations at 4 different national parks of 5,541 distinct species.",
      "metadata": {}
    },
    {
      "id": "3908fc31-5c43-4999-83ed-d19098102e9f",
      "cell_type": "code",
      "source": "df.info()",
      "metadata": {
        "trusted": true
      },
      "outputs": [
        {
          "name": "stdout",
          "output_type": "stream",
          "text": "<class 'pandas.core.frame.DataFrame'>\nRangeIndex: 25632 entries, 0 to 25631\nData columns (total 6 columns):\n #   Column               Non-Null Count  Dtype \n---  ------               --------------  ----- \n 0   category             25632 non-null  object\n 1   scientific_name      25632 non-null  object\n 2   common_names         25632 non-null  object\n 3   conservation_status  880 non-null    object\n 4   park_name            25632 non-null  object\n 5   observations         25632 non-null  int64 \ndtypes: int64(1), object(5)\nmemory usage: 700.9+ KB\n"
        }
      ],
      "execution_count": 72
    },
    {
      "id": "315ffc61-7f10-415d-834c-348a433400e8",
      "cell_type": "markdown",
      "source": "We see that _df_ has 25,632 rows. All variables have datatype object which is expected for strings, except _observations_ which has datatype integer as expected for a counting variable. <br>\nThe count of non-null values for each variable reveals that _conservation_status_ has a significant number of missing values whereas all other columns are complete. <br>",
      "metadata": {}
    },
    {
      "id": "daff7d96-2fa3-4764-a438-b58d130b5491",
      "cell_type": "code",
      "source": "df.conservation_status.value_counts()",
      "metadata": {
        "trusted": true
      },
      "outputs": [
        {
          "execution_count": 73,
          "output_type": "execute_result",
          "data": {
            "text/plain": "conservation_status\nSpecies of Concern    732\nEndangered             80\nThreatened             44\nIn Recovery            24\nName: count, dtype: int64"
          },
          "metadata": {}
        }
      ],
      "execution_count": 73
    },
    {
      "id": "8b510563-f8c0-4356-b0fe-a055a8ebb76f",
      "cell_type": "markdown",
      "source": "By getting more information about the counts of different values of _conservation_status_, we see that the status is either _Species of Concern, Endangered, Threatened,_ or _In Recovery_. <br>\nWe can use this context to infer that the _NaN_ values represent species that do not need to be conserved. <br>\nTherefore this is structurally missing data. <br>\nAlternatively it may be the case that _conservation_status_ is only provided once for each species in which case we'd need to forward fill _conservation_status_ by species. <br>\nIt could be also be the case that since different national parks are in different states, the species may be endangered in one state and not another. <br>\nTo rule out these possibilities we will print the overlap between species with a value for _conservation_status_ and species without a value for _conservation_status_.",
      "metadata": {}
    },
    {
      "id": "fdf1205d-1f95-4711-bd80-028b9fafdced",
      "cell_type": "code",
      "source": "conserved_species = df[df['conservation_status'].notna()]['scientific_name'].unique().tolist()\nother = df[df['conservation_status'].isna()]['scientific_name'].unique().tolist()\nboth = set(conserved_species) & set(other)\nprint(both)",
      "metadata": {
        "trusted": true
      },
      "outputs": [
        {
          "name": "stdout",
          "output_type": "stream",
          "text": "{'Oncorhynchus mykiss'}\n"
        }
      ],
      "execution_count": 74
    },
    {
      "id": "cc0f9e7c-df38-42f8-a07f-0d9e14e66c5e",
      "cell_type": "markdown",
      "source": "We were expecting no overlap if our orginal theory was correct however we have found one species with at least two conservation statuses. Let's investigate further.",
      "metadata": {}
    },
    {
      "id": "0eb5c5b3-a50d-4020-9164-0f9d2bd9d6d4",
      "cell_type": "code",
      "source": "print(df[df['scientific_name']=='Oncorhynchus mykiss'])",
      "metadata": {
        "trusted": true
      },
      "outputs": [
        {
          "name": "stdout",
          "output_type": "stream",
          "text": "      category      scientific_name   common_names conservation_status  \\\n15820     Fish  Oncorhynchus mykiss  Rainbow Trout                 NaN   \n15821     Fish  Oncorhynchus mykiss  Rainbow Trout                 NaN   \n15822     Fish  Oncorhynchus mykiss  Rainbow Trout                 NaN   \n15823     Fish  Oncorhynchus mykiss  Rainbow Trout                 NaN   \n15824     Fish  Oncorhynchus mykiss  Rainbow Trout                 NaN   \n15825     Fish  Oncorhynchus mykiss  Rainbow Trout                 NaN   \n15826     Fish  Oncorhynchus mykiss  Rainbow Trout                 NaN   \n15827     Fish  Oncorhynchus mykiss  Rainbow Trout                 NaN   \n15828     Fish  Oncorhynchus mykiss  Rainbow Trout          Threatened   \n15829     Fish  Oncorhynchus mykiss  Rainbow Trout          Threatened   \n15830     Fish  Oncorhynchus mykiss  Rainbow Trout          Threatened   \n15831     Fish  Oncorhynchus mykiss  Rainbow Trout          Threatened   \n15832     Fish  Oncorhynchus mykiss  Rainbow Trout          Threatened   \n15833     Fish  Oncorhynchus mykiss  Rainbow Trout          Threatened   \n15834     Fish  Oncorhynchus mykiss  Rainbow Trout          Threatened   \n15835     Fish  Oncorhynchus mykiss  Rainbow Trout          Threatened   \n\n                                 park_name  observations  \n15820               Yosemite National Park           118  \n15821                  Bryce National Park            59  \n15822  Great Smoky Mountains National Park            61  \n15823            Yellowstone National Park           119  \n15824            Yellowstone National Park           253  \n15825                  Bryce National Park           105  \n15826  Great Smoky Mountains National Park            39  \n15827               Yosemite National Park            59  \n15828               Yosemite National Park           118  \n15829                  Bryce National Park            59  \n15830  Great Smoky Mountains National Park            61  \n15831            Yellowstone National Park           119  \n15832            Yellowstone National Park           253  \n15833                  Bryce National Park           105  \n15834  Great Smoky Mountains National Park            39  \n15835               Yosemite National Park            59  \n"
        }
      ],
      "execution_count": 75
    },
    {
      "id": "d4ee9fc2-13ce-4e96-b09d-06a9c97ec44b",
      "cell_type": "markdown",
      "source": "Upon inspection, we see that the observation entries for the Rainbow Trout are duplicated, once with conservation status and once without. Perhaps the conservation status changed during the 7 days that observations were taken so were recorded with both values or perhaps one copy is a mistake. <br>\nSince we do not reliably know its conservation status we could delete all rows relating to Oncorhynchus mykiss as it makes up only 16 of 25,632 rows.",
      "metadata": {}
    },
    {
      "id": "eb194532-b15b-4332-809b-f24873d23c7e",
      "cell_type": "code",
      "source": "print(str(round(16/25632 * 100,2))+'% of rows')",
      "metadata": {
        "trusted": true
      },
      "outputs": [
        {
          "name": "stdout",
          "output_type": "stream",
          "text": "0.06% of rows\n"
        }
      ],
      "execution_count": 76
    },
    {
      "id": "c302a771-361e-42f8-af97-7006f338465f",
      "cell_type": "markdown",
      "source": "Alternatively we could keep the data that records _conservation_status_ as the worst case scenario so that rainbow trout are protected no matter what. This would mean deleting only the Rainbow Trout data where it has no recorded value for _conservation_status_. <br>\nThis time I've decided to delete all Rainbow Trout data as I am interested in which species are endangered and there is not reliable data on this subject for this species.",
      "metadata": {}
    },
    {
      "id": "d21a7ce1-c703-48cf-a2ea-a3da24b811f1",
      "cell_type": "code",
      "source": "df = df[df['scientific_name']!='Oncorhynchus mykiss']",
      "metadata": {
        "trusted": true
      },
      "outputs": [],
      "execution_count": 77
    },
    {
      "id": "09a31f04-231a-4d7f-9553-5fd580f39c5d",
      "cell_type": "markdown",
      "source": "Let's also investigate other duplicates. We want to view all rows where species and observations are identical to a previous row.",
      "metadata": {}
    },
    {
      "id": "a8da8449-e369-4f5c-98db-fb50731d941f",
      "cell_type": "code",
      "source": "duplicates = df[df.duplicated(subset=['scientific_name','park_name','observations'])]\nprint(len(duplicates))",
      "metadata": {
        "trusted": true
      },
      "outputs": [
        {
          "name": "stdout",
          "output_type": "stream",
          "text": "2343\n"
        }
      ],
      "execution_count": 78
    }
  ]
}