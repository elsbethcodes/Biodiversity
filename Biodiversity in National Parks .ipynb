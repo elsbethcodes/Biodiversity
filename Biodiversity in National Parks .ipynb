{
  "metadata": {
    "kernelspec": {
      "name": "python",
      "display_name": "Python (Pyodide)",
      "language": "python"
    },
    "language_info": {
      "codemirror_mode": {
        "name": "python",
        "version": 3
      },
      "file_extension": ".py",
      "mimetype": "text/x-python",
      "name": "python",
      "nbconvert_exporter": "python",
      "pygments_lexer": "ipython3",
      "version": "3.8"
    }
  },
  "nbformat_minor": 5,
  "nbformat": 4,
  "cells": [
    {
      "id": "8b2f32e3-3c37-4e35-b1b8-bd69f0447b04",
      "cell_type": "markdown",
      "source": "# Portfolio Project on Biodiversity in National Parks\nThe purpose of this notebook is to use data exploration, visualisation and inference techniques to gain understanding of the following datasets. <br>\n<br>\nspecies_info.csv - contains data about different species and their conservation status. <br>\nobservations.csv - holds recorded sightings of different species at several national parks for the past 7 days.\n\nThis notebook will answer the following research questions. <br>\n<br>\nWhat is the distribution of conservation statuses? <br>\nAre certain types of species more likely to be endangered? <br>\nWhich species were spotted the most at each park?",
      "metadata": {}
    },
    {
      "id": "6d6eee77-dadd-45a9-9802-1124edc02a20",
      "cell_type": "markdown",
      "source": "First we will import the relevant libraries.",
      "metadata": {}
    },
    {
      "id": "f5324a01-7488-44b3-9b95-5099277753f7",
      "cell_type": "code",
      "source": "import pandas as pd\nimport numpy as np\nfrom matplotlib import pyplot as plt",
      "metadata": {
        "trusted": true
      },
      "outputs": [
        {
          "name": "stderr",
          "output_type": "stream",
          "text": "Matplotlib is building the font cache; this may take a moment.\n"
        }
      ],
      "execution_count": 1
    },
    {
      "id": "51f37cc4-2a01-4047-b639-369600571857",
      "cell_type": "markdown",
      "source": "We will load the datasets into pandas dataframes then read the first 5 rows of each dataframe and perform some summary statistics to gain understanding of the contents of each dataframe.",
      "metadata": {}
    },
    {
      "id": "220107d3-9cfc-4f44-8d20-27af2e68d355",
      "cell_type": "code",
      "source": "print('Species Info')\nspecies = pd.read_csv('species_info.csv')\nprint(species.head(5))\nprint('')\nprint('Observations')\nobservations = pd.read_csv('observations.csv')\nprint(observations.head(5))",
      "metadata": {
        "trusted": true
      },
      "outputs": [
        {
          "name": "stdout",
          "output_type": "stream",
          "text": "Species Info\n"
        }
      ],
      "execution_count": null
    },
    {
      "id": "ed9bf99f-f5bb-4bd9-8143-4058f24adbb3",
      "cell_type": "markdown",
      "source": "From observing the first 5 rows of each dataframe, we see that the dataset Species Info has column names _category, scientific_name, common_names_ and _conservation_status_. The dataset Observations has column names _scientific_name, park_name_ and _observations_. <br>\n\nWe have also learnt that _conservation_status_ has missing values.",
      "metadata": {}
    },
    {
      "id": "4eef6658-6c27-462c-a110-1ba0a7571cd1",
      "cell_type": "markdown",
      "source": "It makes sense to merge these tables on the common variable _scientific_name_ so that insights can be more easily visualised across the two tables. <br>\n\nHowever before we can do this, we must first deal with any missing values in each dataframe since merge will fill in any column without matching data as NaN, and check for duplicates of _scientific_name_ in _species_ which will cause more duplicates if unremoved before a merge.",
      "metadata": {}
    },
    {
      "id": "75d82eed-2490-46d4-ba08-b4a3ffbb3302",
      "cell_type": "code",
      "source": "print('Null Values in Species Info')\nprint(species.isna().sum())\nprint('\\nNull Values in Observations')\nprint(observations.isna().sum())",
      "metadata": {
        "trusted": true
      },
      "outputs": [],
      "execution_count": null
    },
    {
      "id": "8fcda474-aae1-4d24-a9e7-60724cc9ccdb",
      "cell_type": "markdown",
      "source": "We have found out that only _conservation_status_ contains null values.",
      "metadata": {}
    },
    {
      "id": "daff7d96-2fa3-4764-a438-b58d130b5491",
      "cell_type": "code",
      "source": "species.conservation_status.value_counts()",
      "metadata": {
        "trusted": true
      },
      "outputs": [],
      "execution_count": null
    },
    {
      "id": "812875fd-2577-47cc-9643-a60f953f3252",
      "cell_type": "markdown",
      "source": "By getting more information about the counts of different values of _conservation_status_, we see that the status is either _Species of Concern, Endangered, Threatened,_ or _In Recovery_. <br>\nWe can use this context to infer that the _NaN_ values represent species without a conservation status. <br>\nTherefore this is structurally missing data. <br>\nWe can navigate this by filling any _NaN_ values for _conservation_status_ with a new value 'No Conservation Status'.",
      "metadata": {}
    },
    {
      "id": "a05eda0a-3636-4eb7-b4b2-e6187778c3e9",
      "cell_type": "code",
      "source": "species['conservation_status'] = species['conservation_status'].fillna('No Conservation Status')",
      "metadata": {
        "trusted": true
      },
      "outputs": [],
      "execution_count": null
    },
    {
      "id": "62b89aea-7b2f-4641-902c-e76be7440d40",
      "cell_type": "code",
      "source": "print(species.head(5))",
      "metadata": {
        "trusted": true
      },
      "outputs": [],
      "execution_count": null
    },
    {
      "id": "d1b2d10c-196c-4542-b1ce-75bf15147b34",
      "cell_type": "markdown",
      "source": "Now that we have dealt with all missing values, we just need to investigate for duplicates in _scientific_name_ in the _species_ dataframe before we merge.",
      "metadata": {}
    },
    {
      "id": "21d11d29-48ae-4ebd-ab14-e2227926eec1",
      "cell_type": "code",
      "source": "print('Species Unique Values')\nprint(species.nunique())\nprint('\\nShape of Species Dataframe')\nprint(species.shape)",
      "metadata": {
        "trusted": true
      },
      "outputs": [],
      "execution_count": null
    },
    {
      "id": "0f45ae09-b5ad-4e0d-8b47-7fccfdd82813",
      "cell_type": "markdown",
      "source": "We see that _species_ has 5,824 rows but only 5,541 unique species according to _scientific_name_, so there are duplicates present in this column. <br>\n\nTo solve this we will group rows by _scientific_name_ in the species table. If duplicates are caused by differences in _common_names_ we will aggregate these into a list of distinct common names.  <br>\n\nIf duplicates are caused by differences in _conservation_status_ we will choose the worst case scenario to ensure that the danger to the species is not understated. <br>\nTo do this we will make _conservation_status_ an ordinal categorical variable.",
      "metadata": {}
    },
    {
      "id": "1f60bc58-0c1a-46ee-9a0e-f9c0271fc487",
      "cell_type": "code",
      "source": "status_order = [\n    'No Conservation Status',\n    'Species of Concern',\n    'Threatened',\n    'Endangered',\n    'In Recovery'\n]",
      "metadata": {
        "trusted": true
      },
      "outputs": [],
      "execution_count": null
    },
    {
      "id": "09bc5397-10da-4456-8697-1aa606064958",
      "cell_type": "code",
      "source": "species['conservation_status'] = pd.Categorical(\n    species['conservation_status'],\n    categories=status_order,\n    ordered=True\n)",
      "metadata": {
        "trusted": true
      },
      "outputs": [],
      "execution_count": null
    },
    {
      "id": "6dc45091-18a1-4ed3-b42a-bb645a158b6d",
      "cell_type": "code",
      "source": "species = species.groupby('scientific_name').agg({\n    'common_names': lambda x: ', '.join(sorted(set(x))),\n    'category': 'first',                # take first value (assuming it's the same across duplicates)\n    'conservation_status': 'last'      # take the last value which should be the worst case scenario \n}).reset_index()\n\nprint(species.shape)",
      "metadata": {
        "trusted": true
      },
      "outputs": [],
      "execution_count": null
    },
    {
      "id": "f42cec64-71ce-4be1-9031-52716fbf1729",
      "cell_type": "markdown",
      "source": "Finally we can see that species now has the same number of rows as distinct scientific names. We can now merge the two tables. <br>\n\nSince the variable of most interest is _observations_ followed by _conservation_status_, we will merge the _species_ dataframe onto the _observations_ dataframe so that the rows of the new dataframe will be all rows from the _observations_ dataframe, with the _species_ info data (which includes _conservation_status_) added on where _scientific_name_ matches. <br>",
      "metadata": {}
    },
    {
      "id": "619004b9-d825-49c1-86e3-fb0dbe497016",
      "cell_type": "code",
      "source": "df = pd.merge(left=species, right=observations, on='scientific_name', how='right')\nprint('Shape of Observations Dataframe')\nprint(observations.shape)\nprint('\\nShape of New Dataframe Df')\nprint(df.shape)",
      "metadata": {
        "trusted": true
      },
      "outputs": [],
      "execution_count": null
    },
    {
      "id": "0f7b2067-d3fc-4973-9ade-67c82de6b436",
      "cell_type": "markdown",
      "source": "The new dataframe _df_ has the same number of rows as _observations_ but three extra columns as expected. <br>",
      "metadata": {}
    },
    {
      "id": "1bcc232b-d33b-49d5-b135-d1efab0703f8",
      "cell_type": "code",
      "source": "print(df.isna().sum())",
      "metadata": {
        "trusted": true
      },
      "outputs": [],
      "execution_count": null
    },
    {
      "id": "77d844f7-3aa2-49ee-8118-9602f8665d43",
      "cell_type": "markdown",
      "source": "The new dataframe has no null values so every scientific name in _observations_ has been matched to a scientific name in _species_.",
      "metadata": {}
    },
    {
      "id": "483b6b7e-137f-405c-9292-aa5884b072aa",
      "cell_type": "markdown",
      "source": "Now that we have a combined dataset we will explore the dataset using summary statistics.",
      "metadata": {}
    },
    {
      "id": "7c3c98ec-29d1-4b26-ad35-8c78c790a92a",
      "cell_type": "code",
      "source": "df.nunique()",
      "metadata": {
        "trusted": true
      },
      "outputs": [],
      "execution_count": null
    },
    {
      "id": "b65705a7-f7b2-455e-adba-e9ed15ee3917",
      "cell_type": "markdown",
      "source": "A count of unique values reveals that our dataframe describes 5,540 distinct species which fall into 7 categories and have been observed across 4 different national parks.",
      "metadata": {}
    },
    {
      "id": "ebc83645-91ea-4773-b1a6-7b038f8d7659",
      "cell_type": "code",
      "source": "print('Categories')\nprint(df['category'].unique())\nprint('')\nprint('Parks')\nprint(df['park_name'].unique())",
      "metadata": {
        "trusted": true
      },
      "outputs": [],
      "execution_count": null
    },
    {
      "id": "3908fc31-5c43-4999-83ed-d19098102e9f",
      "cell_type": "code",
      "source": "df.info()",
      "metadata": {
        "trusted": true
      },
      "outputs": [],
      "execution_count": null
    },
    {
      "id": "315ffc61-7f10-415d-834c-348a433400e8",
      "cell_type": "markdown",
      "source": "We see that _df_ has 23,296 rows. All variables have the datatype _object_ which is expected for strings, except _conservation_status_ which we made categorical and _observations_ which has datatype _int64_ as expected for a counting variable. <br>",
      "metadata": {}
    },
    {
      "id": "8f82a0ed-fc13-4344-b589-8a908a4a1dac",
      "cell_type": "code",
      "source": "df.describe(include='all')",
      "metadata": {
        "trusted": true
      },
      "outputs": [],
      "execution_count": null
    },
    {
      "id": "2aa625c4-b38b-40ca-b596-c387a79132d2",
      "cell_type": "markdown",
      "source": "The most frequent park recorded is Great Smoky Mountains National Park which is interesting because it represents exactly 25% of the data so observations must be evenly distributed between the 4 parks.\n\nWe also see that 77% of species observed in this dataset come under the category Vascular Plant.\n\nIt makes sense that plants would be sighted more than animals as they cannot move and hide in their surroundings.",
      "metadata": {}
    },
    {
      "id": "debfd6aa-88bb-4609-915d-e2e7e3036b28",
      "cell_type": "code",
      "source": "colours = [\n    'lightcoral',\n    'lightsalmon',\n    'palegoldenrod',\n    'lightgreen',\n    'lightcyan',\n    'paleturquoise',\n    'lightblue',\n    'plum',\n    'lavender',\n    'thistle',\n    'pink',\n    'mistyrose',\n    'peachpuff',\n    'wheat',\n    'powderblue',\n    'honeydew',\n    'mintcream'\n]",
      "metadata": {
        "trusted": true
      },
      "outputs": [],
      "execution_count": null
    },
    {
      "id": "0a496aa1-1214-4c80-9d1f-7778de4f3522",
      "cell_type": "markdown",
      "source": "Which types of animals are we most likely to observe at each park?",
      "metadata": {}
    },
    {
      "id": "8e09f1bc-e5a1-4122-9ad9-c898d97fdd38",
      "cell_type": "code",
      "source": "filtered_df = df[~df['category'].isin(['Vascular Plant', 'Nonvascular Plant'])] # filtering out plants as they dominate the dataset\ngrouped = filtered_df.groupby(['park_name', 'category'])['observations'].sum().reset_index() # grouping by park\npivot_table = grouped.pivot(index='park_name', columns='category', values='observations') \npivot_table.plot(kind='bar', figsize=(10, 6), color=colours)\nplt.xlabel('Park')\nplt.ylabel('Total Observations')\nplt.title('Most Observed Classes of Animals by Park')\nplt.xticks(rotation=45)\nplt.legend(title='Class')\nplt.tight_layout()\nplt.show()",
      "metadata": {
        "trusted": true
      },
      "outputs": [],
      "execution_count": null
    },
    {
      "id": "95cea890-48dd-4326-bcb1-e035ade665d6",
      "cell_type": "markdown",
      "source": "The above grouped bar chart shows that Yellowstone National Park is the best for bird-spotting and the least animal observations occured in the Great Smoky Mountains.",
      "metadata": {}
    },
    {
      "id": "0c4722ff-7906-4a80-b5dd-ec9066c08a64",
      "cell_type": "markdown",
      "source": "Are the least observed animals also the most endangered?",
      "metadata": {}
    },
    {
      "id": "b224308b-db6a-4e5a-accb-edc8f6b59976",
      "cell_type": "code",
      "source": "# plot total observations vs conservation_status (perhaps log scale so that the count for 'no conservation status' fits on the graph)",
      "metadata": {
        "trusted": true
      },
      "outputs": [],
      "execution_count": null
    },
    {
      "id": "016ced49-8661-4854-8a63-0e8843f82a43",
      "cell_type": "markdown",
      "source": "Which types of animals are the most endangered?",
      "metadata": {}
    },
    {
      "id": "45bf7054-f993-4f30-9900-e776e5d7a5e1",
      "cell_type": "code",
      "source": "# change observation sum to row count as the graph is currently biased by number of observations\nobs_sum = df[(df['conservation_status'] != 'No Conservation Status') & (df['conservation_status'] != 'Species of Concern')].groupby(['conservation_status', 'category'], observed=True)['observations'].sum().unstack()\nobs_sum.plot(kind='bar', stacked=True, color=colours)\nplt.xticks(rotation=45)\nplt.legend(title='Class')\nplt.xlabel('Conservation Status')\nplt.ylabel('Total Observations')\nplt.title('Make-Up of Most at Risk Groups')\nplt.tight_layout()\nplt.show()",
      "metadata": {
        "trusted": true
      },
      "outputs": [],
      "execution_count": null
    },
    {
      "id": "5972acd5-2f82-41fc-967f-a25e8e01cbd2",
      "cell_type": "markdown",
      "source": "The above stacked bar chart shows that the most threatened species observed are fish and the most endangered species observed are mammals. Whilst many birds observed are endangered, more birds are in recovery.",
      "metadata": {}
    },
    {
      "id": "1224d695-49fc-4929-9e48-af51f1f21b68",
      "cell_type": "markdown",
      "source": "Which species were most observed across all 4 parks?",
      "metadata": {}
    },
    {
      "id": "f6cbd522-fb49-4c8b-a3a5-c491671ef05e",
      "cell_type": "code",
      "source": "print('Wordcloud of Most Observed Species')\nfrom wordcloud import WordCloud\n\ndf['common_names_cleaned'] = (\n    df['common_names']\n    .astype(str)\n    .str.replace(r\"[^\\w\\s\\-]\", \"\", regex=True)   # Remove punctuation except hyphens\n    .str.replace(r\"\\s+\", \" \", regex=True)        # Normalise whitespace\n    .str.strip()                                 # Remove leading/trailing spaces\n)\n\nspecies_counts = df.groupby('common_names_cleaned')['observations'].sum()\nwordcloud = WordCloud(width=800, height=400, background_color='white').generate_from_frequencies(species_counts)\nplt.figure(figsize=(12, 6))\nplt.imshow(wordcloud, interpolation='bilinear')\nplt.axis('off')\nplt.show()",
      "metadata": {
        "trusted": true
      },
      "outputs": [],
      "execution_count": null
    },
    {
      "id": "93f75fac-c1ef-42f6-b4dc-9de773e4b8fa",
      "cell_type": "markdown",
      "source": "The above WordCloud shows that we can expect a lot of moss at any park.",
      "metadata": {}
    },
    {
      "id": "833bf8f4-b679-4f08-b732-7ad0346ce09c",
      "cell_type": "markdown",
      "source": "Which animal species are most likely to be observed at each park?",
      "metadata": {}
    },
    {
      "id": "cdeba57c-20a1-40f2-ac89-27763731c256",
      "cell_type": "code",
      "source": "# print table",
      "metadata": {
        "trusted": true
      },
      "outputs": [],
      "execution_count": null
    }
  ]
}